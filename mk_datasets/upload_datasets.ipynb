{
 "cells": [
  {
   "cell_type": "markdown",
   "id": "7f044768",
   "metadata": {},
   "source": [
    "## json 데이터 HF 업로드 방법"
   ]
  },
  {
   "cell_type": "code",
   "execution_count": 1,
   "id": "6d361e8a",
   "metadata": {},
   "outputs": [
    {
     "data": {
      "application/vnd.jupyter.widget-view+json": {
       "model_id": "ef96107e9f6b4de8a5e9d31364ee1f84",
       "version_major": 2,
       "version_minor": 0
      },
      "text/plain": [
       "Generating train split: 0 examples [00:00, ? examples/s]"
      ]
     },
     "metadata": {},
     "output_type": "display_data"
    }
   ],
   "source": [
    "from datasets import load_dataset\n",
    "\n",
    "dataset = load_dataset(\"json\", data_files=\"/home/moon/llm_finetuning/mk_datasets/test1.jsonl\", split=\"train\")"
   ]
  },
  {
   "cell_type": "code",
   "execution_count": 4,
   "id": "7e786811",
   "metadata": {},
   "outputs": [
    {
     "data": {
      "text/plain": [
       "Dataset({\n",
       "    features: ['instruction', 'input', 'output'],\n",
       "    num_rows: 160\n",
       "})"
      ]
     },
     "execution_count": 4,
     "metadata": {},
     "output_type": "execute_result"
    }
   ],
   "source": [
    "dataset"
   ]
  },
  {
   "cell_type": "code",
   "execution_count": null,
   "id": "443d09ca",
   "metadata": {},
   "outputs": [
    {
     "data": {
      "application/vnd.jupyter.widget-view+json": {
       "model_id": "2615f0c93b564f52a1fde060b6ce2071",
       "version_major": 2,
       "version_minor": 0
      },
      "text/plain": [
       "Uploading the dataset shards:   0%|          | 0/1 [00:00<?, ? shards/s]"
      ]
     },
     "metadata": {},
     "output_type": "display_data"
    },
    {
     "data": {
      "application/vnd.jupyter.widget-view+json": {
       "model_id": "1f7c775106f74642b549ba41cbf662c6",
       "version_major": 2,
       "version_minor": 0
      },
      "text/plain": [
       "Creating parquet from Arrow format:   0%|          | 0/1 [00:00<?, ?ba/s]"
      ]
     },
     "metadata": {},
     "output_type": "display_data"
    },
    {
     "data": {
      "text/plain": [
       "CommitInfo(commit_url='https://huggingface.co/datasets/moon301/lh_announcement/commit/db7c606c6b9a6b2ddddf8252dbc0f0660b07281e', commit_message='Upload dataset', commit_description='', oid='db7c606c6b9a6b2ddddf8252dbc0f0660b07281e', pr_url=None, repo_url=RepoUrl('https://huggingface.co/datasets/moon301/lh_announcement', endpoint='https://huggingface.co', repo_type='dataset', repo_id='moon301/lh_announcement'), pr_revision=None, pr_num=None)"
      ]
     },
     "execution_count": 6,
     "metadata": {},
     "output_type": "execute_result"
    }
   ],
   "source": [
    "import os\n",
    "\n",
    "dataset = load_dataset(\"json\", data_files=\"/home/moon/llm_finetuning/mk_datasets/test1.jsonl\", split=\"train\")\n",
    "\n",
    "dataset_name = \"moon301/lh_announcement\"\n",
    "\n",
    "dataset.push_to_hub(\n",
    "    dataset_name,\n",
    "    private=False,  # private=False로 설정하면 공개 데이터셋이 됩니다.\n",
    "    split=\"korean_v1\",  # 데이터셋 split 이름 입력\n",
    "    token=\"\" #허깅페이스 토큰 입력\n",
    ")"
   ]
  }
 ],
 "metadata": {
  "kernelspec": {
   "display_name": "gpu_test",
   "language": "python",
   "name": "python3"
  },
  "language_info": {
   "codemirror_mode": {
    "name": "ipython",
    "version": 3
   },
   "file_extension": ".py",
   "mimetype": "text/x-python",
   "name": "python",
   "nbconvert_exporter": "python",
   "pygments_lexer": "ipython3",
   "version": "3.10.12"
  }
 },
 "nbformat": 4,
 "nbformat_minor": 5
}
